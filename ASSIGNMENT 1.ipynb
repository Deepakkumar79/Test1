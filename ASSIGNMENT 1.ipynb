{
 "cells": [
  {
   "cell_type": "raw",
   "id": "b377f466",
   "metadata": {},
   "source": [
    " 1. In the below elements which of them are values or an expression? eg:- values can be integer or string and expressions will be mathematical operators.\n",
    "\n",
    "ANSWER:-\n",
    "\n",
    " *: expression\n",
    " 'hello':value \n",
    " -87.8:value \n",
    " -:expression \n",
    " /:expression \n",
    " +:expression\n",
    " 6:value"
   ]
  },
  {
   "cell_type": "raw",
   "id": "3978647d",
   "metadata": {},
   "source": [
    "2. What is the difference between string and variable?\n",
    "\n",
    "ANSWER:-Variables are symbols that you can use to store data in a program. You can think of them as an empty box that you fill with some data or value. Strings are data, so we can use them to fill up a variable."
   ]
  },
  {
   "cell_type": "raw",
   "id": "6a5979c9",
   "metadata": {},
   "source": [
    "3.Describe three different data types?\n",
    "ANSWER:-\n",
    "\n",
    "1.NUMRIC\n",
    "2.SETS \n",
    "3.DICTIONARY"
   ]
  },
  {
   "cell_type": "raw",
   "id": "84742943",
   "metadata": {},
   "source": [
    "4. What is an expression made up of? What do all expressions do?\n",
    "\n",
    "ANSWER:-An expression is made up of variables, operators, and method invocations,Expressions representations the value."
   ]
  },
  {
   "cell_type": "raw",
   "id": "fc0cdc99",
   "metadata": {},
   "source": [
    "5. This assignment statements, like spam = 10. What is the difference between an expression and a statement?\n",
    "\n",
    "ANSWER :-A statement  in python is used for creating variable or for displaying values.The expression in python produce some values or result after being interpreter by the python interpreter.\n",
    "                                                                                   A statement in python is not evaluted for some result . An expression in  python is evaluted for some result.\n",
    "                                                                                   \n",
    "EX:-x = 10 .\n",
    "OUTPUT=10\n",
    "\n",
    "EX:-x=20+20.\n",
    "OUTPUT 40"
   ]
  },
  {
   "cell_type": "raw",
   "id": "717bc2a4",
   "metadata": {},
   "source": [
    "6. After running the following code, what does the variable bacon contain?\n",
    "bacon = 22\n",
    "bacon + 1\n",
    "\n",
    "ANSWER:-\n",
    "23\n"
   ]
  },
  {
   "cell_type": "raw",
   "id": "0f17ebd8",
   "metadata": {},
   "source": [
    "7. What should the values of the following two terms be?\n",
    "'spam' + 'spamspam'\n",
    "'spam' * 3\n",
    "\n",
    "ANSWER:-\n",
    "'spamspamspam'\n"
   ]
  },
  {
   "cell_type": "raw",
   "id": "8ea993ac",
   "metadata": {},
   "source": [
    "8.Why is eggs a valid variable name while 100 is invalid?\n",
    "ANSWER:-\n",
    "\n",
    "Because the variable names cannot begin with a number."
   ]
  },
  {
   "cell_type": "raw",
   "id": "7f4ae68b",
   "metadata": {},
   "source": [
    "9. What three functions can be used to get the integer, floating-point number, or string version of a value?\n",
    "\n",
    "ANSWER:-For String str(),for integer int() , for floting point no float()"
   ]
  },
  {
   "cell_type": "raw",
   "id": "699750fe",
   "metadata": {},
   "source": [
    "10.10. Why does this expression cause an error? How can you fix it?\n",
    " 'I have eaten ' + 99 + ' burritos.'\n",
    "\n",
    " ANSWER:-This expression cause and error because in this line 'I have eaten ' and 'burritos' are stings , while 99 is an integers . in order to fix error and print 'I have eaten 99 burritos.',(9 needs\" around it to treat it as a sting .so the corrected one will be : I have eaten ' + '99' + ' burritos;-->'i have eaten 99 burritos;"
   ]
  }
 ],
 "metadata": {
  "kernelspec": {
   "display_name": "Python 3 (ipykernel)",
   "language": "python",
   "name": "python3"
  },
  "language_info": {
   "codemirror_mode": {
    "name": "ipython",
    "version": 3
   },
   "file_extension": ".py",
   "mimetype": "text/x-python",
   "name": "python",
   "nbconvert_exporter": "python",
   "pygments_lexer": "ipython3",
   "version": "3.10.9"
  }
 },
 "nbformat": 4,
 "nbformat_minor": 5
}
